{
 "cells": [
  {
   "cell_type": "code",
   "execution_count": null,
   "id": "fbe63e70",
   "metadata": {},
   "outputs": [],
   "source": [
    "import requests\n",
    "url=\"https://images.pexels.com/photos/674010/pexels-photo-674010.jpeg?auto=compress&cs=tinysrgb&dpr=1&w=500\"\n",
    "resp=requests.get(url)\n",
    "resp.status_code"
   ]
  },
  {
   "cell_type": "code",
   "execution_count": 7,
   "id": "ad2e3299",
   "metadata": {},
   "outputs": [],
   "source": [
    "with open('image.jpg', 'wb') as fp:\n",
    "    fp.write(resp.content)"
   ]
  },
  {
   "cell_type": "code",
   "execution_count": 47,
   "id": "7379af86",
   "metadata": {},
   "outputs": [],
   "source": [
    "def download(url, filename):\n",
    "    try:\n",
    "        resp = requests.get(url)\n",
    "        if resp.status_code==200:\n",
    "            with open(filename, 'wb') as fp:\n",
    "                fp.write(resp.content)\n",
    "                print(\"Image downloaded Successfully\")\n",
    "        else:\n",
    "            return \"Invalid Url\"\n",
    "    except Exception as error:\n",
    "        return error\n",
    "# url1=input(\"Enter the url= \")\n",
    "# format=\".jpg\"\n",
    "# filename1= input(\"Enter the file name you want= \")\n",
    "# download(url1,filename1)"
   ]
  },
  {
   "cell_type": "code",
   "execution_count": 48,
   "id": "1255d5f8",
   "metadata": {},
   "outputs": [
    {
     "name": "stdout",
     "output_type": "stream",
     "text": [
      "Image downloaded Successfully\n"
     ]
    }
   ],
   "source": [
    "download(\"https://cdn.pixabay.com/photo/2015/04/23/22/00/tree-736885__480.jpg\",\"tree.jpg\")"
   ]
  },
  {
   "cell_type": "code",
   "execution_count": null,
   "id": "4e38d5a9",
   "metadata": {},
   "outputs": [],
   "source": []
  }
 ],
 "metadata": {
  "kernelspec": {
   "display_name": "Python 3 (ipykernel)",
   "language": "python",
   "name": "python3"
  },
  "language_info": {
   "codemirror_mode": {
    "name": "ipython",
    "version": 3
   },
   "file_extension": ".py",
   "mimetype": "text/x-python",
   "name": "python",
   "nbconvert_exporter": "python",
   "pygments_lexer": "ipython3",
   "version": "3.9.7"
  }
 },
 "nbformat": 4,
 "nbformat_minor": 5
}
